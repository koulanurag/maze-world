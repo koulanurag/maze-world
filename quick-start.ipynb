{
 "cells": [
  {
   "cell_type": "markdown",
   "id": "f46ff7268ca10aef",
   "metadata": {
    "collapsed": false
   },
   "source": [
    "## Quick-Start\n",
    "In the section, we understand minimal and sufficient usage of maze-world framework.\n",
    "We begin by importing the packages"
   ]
  },
  {
   "cell_type": "code",
   "execution_count": 4,
   "id": "b110bb1b5c080d26",
   "metadata": {
    "ExecuteTime": {
     "end_time": "2024-02-07T20:42:23.996827Z",
     "start_time": "2024-02-07T20:42:23.991587Z"
    },
    "collapsed": false
   },
   "outputs": [],
   "source": [
    "import gymnasium as gym\n",
    "import numpy as np"
   ]
  },
  {
   "cell_type": "markdown",
   "id": "3dfc1c8d353e2269",
   "metadata": {
    "collapsed": false
   },
   "source": [
    "### Basic Usage"
   ]
  },
  {
   "cell_type": "code",
   "execution_count": 5,
   "id": "2928be3ba5de8c96",
   "metadata": {
    "ExecuteTime": {
     "end_time": "2024-02-07T20:42:24.982893Z",
     "start_time": "2024-02-07T20:42:24.980319Z"
    },
    "collapsed": false
   },
   "outputs": [],
   "source": [
    "env = gym.make(\"maze_world:RandomMaze-11x11-v0\")\n",
    "terminated, truncated = False, False\n",
    "observation, info = env.reset(seed=0, options={})\n",
    "episode_score = 0.0\n",
    "\n",
    "while not (terminated or truncated):\n",
    "    action = env.action_space.sample()\n",
    "    observation, reward, terminated, truncated, info = env.step(action)\n",
    "    episode_score += reward\n",
    "env.close()"
   ]
  },
  {
   "cell_type": "markdown",
   "id": "d0b224c163375431",
   "metadata": {
    "collapsed": false
   },
   "source": [
    "### Creating custom random maze size"
   ]
  },
  {
   "cell_type": "code",
   "execution_count": 6,
   "id": "a5693d5f86bea48e",
   "metadata": {
    "ExecuteTime": {
     "end_time": "2024-02-07T20:42:26.723565Z",
     "start_time": "2024-02-07T20:42:26.720994Z"
    },
    "collapsed": false
   },
   "outputs": [],
   "source": [
    "gym.envs.register(\n",
    "    id=\"RandomMaze-7x7-v0\",\n",
    "    entry_point=\"maze_world.envs:RandomMazeEnv\",\n",
    "    max_episode_steps=200,\n",
    "    kwargs={\n",
    "        \"maze_width\": 7,\n",
    "        \"maze_height\": 7,\n",
    "        \"maze_complexity\": 1,\n",
    "        \"maze_density\": 1,\n",
    "    },\n",
    ")"
   ]
  },
  {
   "cell_type": "code",
   "execution_count": 8,
   "id": "76dce9d5055261fd",
   "metadata": {
    "ExecuteTime": {
     "end_time": "2024-02-07T20:42:35.936568Z",
     "start_time": "2024-02-07T20:42:35.932470Z"
    },
    "collapsed": false
   },
   "outputs": [],
   "source": [
    "env = gym.make(\"maze_world:RandomMaze-7x7-v0\")\n",
    "terminated, truncated = False, False\n",
    "observation, info = env.reset(seed=0, options={})\n",
    "episode_score = 0.0\n",
    "\n",
    "while not (terminated or truncated):\n",
    "    action = env.action_space.sample()\n",
    "    observation, reward, terminated, truncated, info = env.step(action)\n",
    "    episode_score += reward\n",
    "env.close()"
   ]
  },
  {
   "cell_type": "markdown",
   "id": "d03fbcb73fc1b232",
   "metadata": {
    "collapsed": false
   },
   "source": [
    "### Creating maze with pre-specified map"
   ]
  },
  {
   "cell_type": "code",
   "execution_count": 9,
   "id": "adf9b583e8be51e1",
   "metadata": {
    "ExecuteTime": {
     "end_time": "2024-02-07T20:42:37.611720Z",
     "start_time": "2024-02-07T20:42:37.605667Z"
    },
    "collapsed": false
   },
   "outputs": [
    {
     "name": "stderr",
     "output_type": "stream",
     "text": [
      "/Users/anuragkoul/.virtualenv/maze-world/lib/python3.9/site-packages/gymnasium/envs/registration.py:694: UserWarning: \u001b[33mWARN: Overriding environment UMaze-v0 already in registry.\u001b[0m\n",
      "  logger.warn(f\"Overriding environment {new_spec.id} already in registry.\")\n"
     ]
    }
   ],
   "source": [
    "def _generate_maze_fn():\n",
    "    # This function would be called on every reset\n",
    "\n",
    "    maze_map = np.array(\n",
    "        [\n",
    "            [1, 1, 1, 1, 1, 1, 1, 1, 1, 1],\n",
    "            [1, 0, 0, 0, 0, 0, 0, 0, 0, 1],\n",
    "            [1, 0, 0, 0, 0, 0, 0, 0, 0, 1],\n",
    "            [1, 1, 1, 1, 1, 1, 1, 0, 0, 1],\n",
    "            [1, 1, 1, 1, 1, 1, 1, 0, 0, 1],\n",
    "            [1, 1, 1, 1, 1, 1, 1, 0, 0, 1],\n",
    "            [1, 0, 0, 0, 0, 0, 0, 0, 0, 1],\n",
    "            [1, 0, 0, 0, 0, 0, 0, 0, 0, 1],\n",
    "            [1, 1, 1, 1, 1, 1, 1, 1, 1, 1],\n",
    "        ]\n",
    "    )\n",
    "    agent_loc = np.array([1, 1])\n",
    "    target_loc = np.array([7, 1])\n",
    "    return maze_map, agent_loc, target_loc\n",
    "\n",
    "\n",
    "gym.envs.register(\n",
    "    id=\"UMaze-v0\",\n",
    "    entry_point=\"maze_world.envs:MazeEnv\",\n",
    "    max_episode_steps=200,\n",
    "    kwargs={\n",
    "        \"generate_maze_fn\": _generate_maze_fn,\n",
    "        \"maze_height\": 9,\n",
    "        \"maze_width\": 10,\n",
    "    },\n",
    ")"
   ]
  },
  {
   "cell_type": "code",
   "execution_count": 10,
   "id": "d7ed0d56bae72e26",
   "metadata": {
    "ExecuteTime": {
     "end_time": "2024-02-07T20:42:44.070340Z",
     "start_time": "2024-02-07T20:42:44.057440Z"
    },
    "collapsed": false
   },
   "outputs": [],
   "source": [
    "env = gym.make(\"maze_world:UMaze-v0\")\n",
    "terminated, truncated = False, False\n",
    "observation, info = env.reset(seed=0, options={})\n",
    "episode_score = 0.0\n",
    "\n",
    "while not (terminated or truncated):\n",
    "    action = env.action_space.sample()\n",
    "    observation, reward, terminated, truncated, info = env.step(action)\n",
    "    episode_score += reward\n",
    "env.close()"
   ]
  }
 ],
 "metadata": {
  "kernelspec": {
   "display_name": "Python 3",
   "language": "python",
   "name": "python3"
  },
  "language_info": {
   "codemirror_mode": {
    "name": "ipython",
    "version": 2
   },
   "file_extension": ".py",
   "mimetype": "text/x-python",
   "name": "python",
   "nbconvert_exporter": "python",
   "pygments_lexer": "ipython2",
   "version": "2.7.6"
  }
 },
 "nbformat": 4,
 "nbformat_minor": 5
}
