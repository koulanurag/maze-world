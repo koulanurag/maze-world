{
 "cells": [
  {
   "cell_type": "code",
   "execution_count": null,
   "id": "initial_id",
   "metadata": {
    "collapsed": true
   },
   "outputs": [],
   "source": [
    "!pip install maze-world"
   ]
  },
  {
   "cell_type": "code",
   "outputs": [],
   "source": [
    "import gymnasium as gym"
   ],
   "metadata": {
    "collapsed": false
   },
   "id": "962721599ae9e2f6"
  },
  {
   "cell_type": "code",
   "outputs": [],
   "source": [
    "env = gym.make(\"maze_world:RandomMaze-11x11-v0\", render_mode=\"human\")\n",
    "terminated, truncated = False, False\n",
    "observation, info = env.reset(seed=0, options={})\n",
    "episode_score = 0.0\n",
    "while not (terminated or truncated):\n",
    "    action = env.action_space.sample()\n",
    "    observation, reward, terminated, truncated, info = env.step(action)\n",
    "    episode_score += reward\n",
    "env.close()"
   ],
   "metadata": {
    "collapsed": false
   },
   "id": "b5e1a9e53e9b63d3"
  },
  {
   "cell_type": "code",
   "outputs": [],
   "source": [
    "print(f\"Episode Score: {episode_score}\")"
   ],
   "metadata": {
    "collapsed": false
   },
   "id": "bd0b2fb893aa2950"
  }
 ],
 "metadata": {
  "kernelspec": {
   "display_name": "Python 3",
   "language": "python",
   "name": "python3"
  },
  "language_info": {
   "codemirror_mode": {
    "name": "ipython",
    "version": 2
   },
   "file_extension": ".py",
   "mimetype": "text/x-python",
   "name": "python",
   "nbconvert_exporter": "python",
   "pygments_lexer": "ipython2",
   "version": "2.7.6"
  }
 },
 "nbformat": 4,
 "nbformat_minor": 5
}
